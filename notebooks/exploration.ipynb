{
 "cells": [
  {
   "cell_type": "markdown",
   "metadata": {},
   "source": [
    "# Exploratory Data Analysis (EDA) on Football Database ⚽\n",
    "\n",
    "This notebook performs an exploratory data analysis (EDA) on a football database.  \n",
    "The dataset contains information about players, leagues, teams, games, shots, team statistics, and player appearances.  \n",
    "The goal is to understand the data, clean it, and perform some initial analyses.\n",
    "\n",
    "\n",
    "\n",
    "## Table of Contents\n",
    "\n",
    "### 1. **Importing Libraries**\n",
    "### 2. **Loading the Data**  \n",
    "   - 2.1 Loading the Data  \n",
    "   - 2.2 Basic Observations and Data Understanding  \n",
    "### 3. **Data Exploration**  \n",
    "   - 3.1 General Overview  \n",
    "   - 3.2 Data Exploration Class  \n",
    "   - 3.3 Exploring Team Statistics  \n",
    "   - 3.4 Exploring Players Data  \n",
    "   - 3.5 Exploring Leagues Data  \n",
    "   - 3.6 Exploring Teams Data  \n",
    "   - 3.7 Exploring Games Data  \n",
    "   - 3.8 Exploring Shots Data  \n",
    "   - 3.9 Exploring Appearances Data  \n",
    "### 4. **Data Cleaning & Transformation**  \n",
    "   - 4.1 Removing Betting Related Fields  \n",
    "   - 4.2 Handling Missing Values  \n",
    "### 5. **El Clásico Analysis**  \n",
    "   - 5.1 Filtering Teams  \n",
    "   - 5.2 Merging Data for El Clásico  \n",
    "   - 5.3 Calculating Win Counts  \n",
    "### 6. **Top Goal Scorers and Assisters**  \n",
    "   - 6.1 Top Goal Scorers  \n",
    "   - 6.2 Top Assisters  \n",
    "### 7. **Exploratory Data Analysis**  \n",
    "   - 7.1 Goals Analysis  \n",
    "   - 7.2 Yellow Cards Analysis  \n",
    "   - 7.3 Red Cards Analysis  \n",
    "### 8. Visualizations\n",
    "### 9. **Conclusion**\n"
   ]
  },
  {
   "cell_type": "markdown",
   "metadata": {},
   "source": [
    "## 1. Importing Libraries\n",
    "\n",
    "We start by importing the necessary libraries for data manipulation and visualization.\n"
   ]
  },
  {
   "cell_type": "code",
   "execution_count": 2,
   "metadata": {},
   "outputs": [
    {
     "name": "stdout",
     "output_type": "stream",
     "text": [
      "Collecting seaborn\n",
      "  Downloading seaborn-0.13.2-py3-none-any.whl (294 kB)\n",
      "     ------------------------------------ 294.9/294.9 kB 207.0 kB/s eta 0:00:00\n",
      "Requirement already satisfied: matplotlib!=3.6.1,>=3.4 in c:\\users\\pc\\appdata\\roaming\\python\\python38\\site-packages (from seaborn) (3.7.5)\n",
      "Requirement already satisfied: pandas>=1.2 in c:\\users\\pc\\.ipython\\envs\\flask3.8.1\\lib\\site-packages (from seaborn) (2.0.1)\n",
      "Requirement already satisfied: numpy!=1.24.0,>=1.20 in c:\\users\\pc\\appdata\\roaming\\python\\python38\\site-packages (from seaborn) (1.24.4)\n",
      "Requirement already satisfied: python-dateutil>=2.7 in c:\\users\\pc\\appdata\\roaming\\python\\python38\\site-packages (from matplotlib!=3.6.1,>=3.4->seaborn) (2.9.0.post0)\n",
      "Requirement already satisfied: pyparsing>=2.3.1 in c:\\users\\pc\\appdata\\roaming\\python\\python38\\site-packages (from matplotlib!=3.6.1,>=3.4->seaborn) (3.1.4)\n",
      "Requirement already satisfied: contourpy>=1.0.1 in c:\\users\\pc\\appdata\\roaming\\python\\python38\\site-packages (from matplotlib!=3.6.1,>=3.4->seaborn) (1.1.1)\n",
      "Requirement already satisfied: cycler>=0.10 in c:\\users\\pc\\appdata\\roaming\\python\\python38\\site-packages (from matplotlib!=3.6.1,>=3.4->seaborn) (0.12.1)\n",
      "Requirement already satisfied: kiwisolver>=1.0.1 in c:\\users\\pc\\appdata\\roaming\\python\\python38\\site-packages (from matplotlib!=3.6.1,>=3.4->seaborn) (1.4.7)\n",
      "Requirement already satisfied: fonttools>=4.22.0 in c:\\users\\pc\\appdata\\roaming\\python\\python38\\site-packages (from matplotlib!=3.6.1,>=3.4->seaborn) (4.55.3)\n",
      "Requirement already satisfied: pillow>=6.2.0 in c:\\users\\pc\\appdata\\roaming\\python\\python38\\site-packages (from matplotlib!=3.6.1,>=3.4->seaborn) (10.4.0)\n",
      "Requirement already satisfied: packaging>=20.0 in c:\\users\\pc\\appdata\\roaming\\python\\python38\\site-packages (from matplotlib!=3.6.1,>=3.4->seaborn) (24.2)\n",
      "Requirement already satisfied: importlib-resources>=3.2.0 in c:\\users\\pc\\appdata\\roaming\\python\\python38\\site-packages (from matplotlib!=3.6.1,>=3.4->seaborn) (6.4.5)\n",
      "Requirement already satisfied: pytz>=2020.1 in c:\\users\\pc\\.ipython\\envs\\flask3.8.1\\lib\\site-packages (from pandas>=1.2->seaborn) (2023.3)\n",
      "Requirement already satisfied: tzdata>=2022.1 in c:\\users\\pc\\.ipython\\envs\\flask3.8.1\\lib\\site-packages (from pandas>=1.2->seaborn) (2023.3)\n",
      "Requirement already satisfied: zipp>=3.1.0 in c:\\users\\pc\\appdata\\roaming\\python\\python38\\site-packages (from importlib-resources>=3.2.0->matplotlib!=3.6.1,>=3.4->seaborn) (3.20.2)\n",
      "Requirement already satisfied: six>=1.5 in c:\\users\\pc\\appdata\\roaming\\python\\python38\\site-packages (from python-dateutil>=2.7->matplotlib!=3.6.1,>=3.4->seaborn) (1.17.0)\n",
      "Installing collected packages: seaborn\n",
      "Successfully installed seaborn-0.13.2\n"
     ]
    }
   ],
   "source": [
    "import numpy as np\n",
    "import pandas as pd\n",
    "import matplotlib.pyplot as plt\n",
    "import seaborn as sns\n",
    "sns.set_theme(style=\"darkgrid\", palette=[\"#1f77b4\", \"#ff7f0e\", \"#2ca02c\", \"#d62728\", \"#9467bd\"])"
   ]
  },
  {
   "cell_type": "markdown",
   "metadata": {},
   "source": [
    "## 2. Loading the Data"
   ]
  },
  {
   "cell_type": "markdown",
   "metadata": {},
   "source": [
    "### 2.1 Loading the Data\n",
    "\n",
    "We load the data from the CSV files provided in the dataset. \n",
    "\n",
    "**Data Set Link :** [Football Database](https://www.kaggle.com/datasets/technika148/football-database?select=appearances.csv) "
   ]
  },
  {
   "cell_type": "code",
   "execution_count": 33,
   "metadata": {},
   "outputs": [],
   "source": [
    "import os\n",
    "\n",
    "# List all files in the directory\n",
    "for dirname, _, filenames in os.walk('/kaggle/input'):\n",
    "    for filename in filenames:\n",
    "        print(os.path.join(dirname, filename))\n",
    "\n",
    "# Load the data\n",
    "players = pd.read_csv(\"C:\\\\Users\\\\pc\\\\Desktop\\\\DataWarehouseProject\\\\data\\\\players.csv\", encoding='ISO-8859-1')\n",
    "leagues = pd.read_csv('C:\\\\Users\\\\pc\\\\Desktop\\\\DataWarehouseProject\\\\data\\\\leagues.csv', encoding='ISO-8859-1')\n",
    "teams = pd.read_csv('C:\\\\Users\\\\pc\\\\Desktop\\\\DataWarehouseProject\\\\data\\\\teams.csv', encoding='ISO-8859-1')\n",
    "games = pd.read_csv('C:\\\\Users\\\\pc\\\\Desktop\\\\DataWarehouseProject\\\\data\\\\games.csv')\n",
    "shots = pd.read_csv('C:\\\\Users\\\\pc\\\\Desktop\\\\DataWarehouseProject\\\\data\\\\shots.csv')\n",
    "teamstats = pd.read_csv('C:\\\\Users\\\\pc\\\\Desktop\\\\DataWarehouseProject\\\\data\\\\teamstats.csv')\n",
    "appearances = pd.read_csv('C:\\\\Users\\\\pc\\\\Desktop\\\\DataWarehouseProject\\\\data\\\\appearances.csv')"
   ]
  },
  {
   "cell_type": "markdown",
   "metadata": {},
   "source": [
    "### 2.2 Basic Observations and Data Understanding\n",
    "\n",
    "We create a summary table to understand the structure of each dataset."
   ]
  },
  {
   "cell_type": "code",
   "execution_count": 34,
   "metadata": {},
   "outputs": [
    {
     "data": {
      "text/html": [
       "<div>\n",
       "<style scoped>\n",
       "    .dataframe tbody tr th:only-of-type {\n",
       "        vertical-align: middle;\n",
       "    }\n",
       "\n",
       "    .dataframe tbody tr th {\n",
       "        vertical-align: top;\n",
       "    }\n",
       "\n",
       "    .dataframe thead th {\n",
       "        text-align: right;\n",
       "    }\n",
       "</style>\n",
       "<table border=\"1\" class=\"dataframe\">\n",
       "  <thead>\n",
       "    <tr style=\"text-align: right;\">\n",
       "      <th></th>\n",
       "      <th>DataFrame</th>\n",
       "      <th>No. of Columns</th>\n",
       "      <th>No. of Rows</th>\n",
       "      <th>Datatype Aggregation</th>\n",
       "    </tr>\n",
       "  </thead>\n",
       "  <tbody>\n",
       "    <tr>\n",
       "      <th>0</th>\n",
       "      <td>players</td>\n",
       "      <td>2</td>\n",
       "      <td>7659</td>\n",
       "      <td>{int64: 1, object: 1}</td>\n",
       "    </tr>\n",
       "    <tr>\n",
       "      <th>1</th>\n",
       "      <td>leagues</td>\n",
       "      <td>3</td>\n",
       "      <td>5</td>\n",
       "      <td>{object: 2, int64: 1}</td>\n",
       "    </tr>\n",
       "    <tr>\n",
       "      <th>2</th>\n",
       "      <td>teams</td>\n",
       "      <td>2</td>\n",
       "      <td>146</td>\n",
       "      <td>{int64: 1, object: 1}</td>\n",
       "    </tr>\n",
       "    <tr>\n",
       "      <th>3</th>\n",
       "      <td>games</td>\n",
       "      <td>34</td>\n",
       "      <td>12680</td>\n",
       "      <td>{float64: 24, int64: 9, object: 1}</td>\n",
       "    </tr>\n",
       "    <tr>\n",
       "      <th>4</th>\n",
       "      <td>shots</td>\n",
       "      <td>11</td>\n",
       "      <td>324542</td>\n",
       "      <td>{float64: 4, object: 4, int64: 3}</td>\n",
       "    </tr>\n",
       "    <tr>\n",
       "      <th>5</th>\n",
       "      <td>teamstats</td>\n",
       "      <td>16</td>\n",
       "      <td>25360</td>\n",
       "      <td>{int64: 10, object: 3, float64: 3}</td>\n",
       "    </tr>\n",
       "    <tr>\n",
       "      <th>6</th>\n",
       "      <td>appearances</td>\n",
       "      <td>19</td>\n",
       "      <td>356513</td>\n",
       "      <td>{int64: 14, float64: 4, object: 1}</td>\n",
       "    </tr>\n",
       "  </tbody>\n",
       "</table>\n",
       "</div>"
      ],
      "text/plain": [
       "     DataFrame  No. of Columns  No. of Rows   \n",
       "0      players               2         7659  \\\n",
       "1      leagues               3            5   \n",
       "2        teams               2          146   \n",
       "3        games              34        12680   \n",
       "4        shots              11       324542   \n",
       "5    teamstats              16        25360   \n",
       "6  appearances              19       356513   \n",
       "\n",
       "                 Datatype Aggregation  \n",
       "0               {int64: 1, object: 1}  \n",
       "1               {object: 2, int64: 1}  \n",
       "2               {int64: 1, object: 1}  \n",
       "3  {float64: 24, int64: 9, object: 1}  \n",
       "4   {float64: 4, object: 4, int64: 3}  \n",
       "5  {int64: 10, object: 3, float64: 3}  \n",
       "6  {int64: 14, float64: 4, object: 1}  "
      ]
     },
     "execution_count": 34,
     "metadata": {},
     "output_type": "execute_result"
    }
   ],
   "source": [
    "dfs = [players, leagues, teams, games, shots, teamstats, appearances]\n",
    "df_names = ['players', 'leagues', 'teams', 'games', 'shots', 'teamstats', 'appearances']\n",
    "\n",
    "# Create a summary table\n",
    "summary = {\n",
    "    \"DataFrame\": [],\n",
    "    \"No. of Columns\": [],\n",
    "    \"No. of Rows\": [],\n",
    "    \"Datatype Aggregation\": []\n",
    "}\n",
    "\n",
    "for name, df in zip(df_names, dfs):\n",
    "    summary[\"DataFrame\"].append(name)\n",
    "    summary[\"No. of Columns\"].append(df.shape[1])\n",
    "    summary[\"No. of Rows\"].append(df.shape[0])\n",
    "    summary[\"Datatype Aggregation\"].append(df.dtypes.value_counts().to_dict())\n",
    "\n",
    "# Convert the summary into a dataframe\n",
    "summary_df = pd.DataFrame(summary)\n",
    "summary_df"
   ]
  },
  {
   "cell_type": "markdown",
   "metadata": {},
   "source": [
    "## 3. Data Exploration\n"
   ]
  },
  {
   "cell_type": "markdown",
   "metadata": {},
   "source": [
    "### 3.1 General Overview\n",
    "\n",
    "* The dataset consists of a total of **726,906 rows and 87 columns** across seven tables.\n",
    "\n",
    "* The `players, leagues, and teams` tables are relatively small, focusing on primary identifiers and names. \n",
    "* The `teamstats table` contains team records for each game. `The shots and appearances tables` contain the most records, with **324,543 and 356,513 rows**, respectively."
   ]
  },
  {
   "cell_type": "markdown",
   "metadata": {},
   "source": [
    "### 3.2 Data Exploration Class\n",
    "We define a class to help with data exploration."
   ]
  },
  {
   "cell_type": "code",
   "execution_count": 56,
   "metadata": {},
   "outputs": [],
   "source": [
    "class DataExploration:\n",
    "    def __init__(self, df: pd.DataFrame):\n",
    "        self.df = df\n",
    "    \n",
    "    def show_top_records(self, n=5):\n",
    "        print(f\"\\n TOP {n} RECORDS\")\n",
    "        display(self.df.head(n))\n",
    "    \n",
    "    def show_info(self):\n",
    "        print(f\"\\n Data INFO \")\n",
    "        display(self.df.info())\n",
    "\n",
    "    def show_shape(self):\n",
    "        print(f\"\\nSHAPE OF DATA {self.df.shape}\")\n",
    "    \n",
    "    def run_eda(self):\n",
    "        self.show_top_records()\n",
    "        self.show_info()\n",
    "        self.show_shape()"
   ]
  },
  {
   "cell_type": "markdown",
   "metadata": {},
   "source": [
    "### 3.3 Exploring Team Statistics\n",
    "We explore the `teamstats` dataset."
   ]
  },
  {
   "cell_type": "code",
   "execution_count": 36,
   "metadata": {},
   "outputs": [
    {
     "name": "stdout",
     "output_type": "stream",
     "text": [
      "\n",
      " TOP 5 RECORDS\n"
     ]
    },
    {
     "data": {
      "text/html": [
       "<div>\n",
       "<style scoped>\n",
       "    .dataframe tbody tr th:only-of-type {\n",
       "        vertical-align: middle;\n",
       "    }\n",
       "\n",
       "    .dataframe tbody tr th {\n",
       "        vertical-align: top;\n",
       "    }\n",
       "\n",
       "    .dataframe thead th {\n",
       "        text-align: right;\n",
       "    }\n",
       "</style>\n",
       "<table border=\"1\" class=\"dataframe\">\n",
       "  <thead>\n",
       "    <tr style=\"text-align: right;\">\n",
       "      <th></th>\n",
       "      <th>gameID</th>\n",
       "      <th>teamID</th>\n",
       "      <th>season</th>\n",
       "      <th>date</th>\n",
       "      <th>location</th>\n",
       "      <th>goals</th>\n",
       "      <th>xGoals</th>\n",
       "      <th>shots</th>\n",
       "      <th>shotsOnTarget</th>\n",
       "      <th>deep</th>\n",
       "      <th>ppda</th>\n",
       "      <th>fouls</th>\n",
       "      <th>corners</th>\n",
       "      <th>yellowCards</th>\n",
       "      <th>redCards</th>\n",
       "      <th>result</th>\n",
       "    </tr>\n",
       "  </thead>\n",
       "  <tbody>\n",
       "    <tr>\n",
       "      <th>0</th>\n",
       "      <td>81</td>\n",
       "      <td>89</td>\n",
       "      <td>2015</td>\n",
       "      <td>8/8/2015 15:45</td>\n",
       "      <td>h</td>\n",
       "      <td>1</td>\n",
       "      <td>0.627539</td>\n",
       "      <td>9</td>\n",
       "      <td>1</td>\n",
       "      <td>4</td>\n",
       "      <td>13.8261</td>\n",
       "      <td>12</td>\n",
       "      <td>1</td>\n",
       "      <td>2.0</td>\n",
       "      <td>0</td>\n",
       "      <td>W</td>\n",
       "    </tr>\n",
       "    <tr>\n",
       "      <th>1</th>\n",
       "      <td>81</td>\n",
       "      <td>82</td>\n",
       "      <td>2015</td>\n",
       "      <td>8/8/2015 15:45</td>\n",
       "      <td>a</td>\n",
       "      <td>0</td>\n",
       "      <td>0.674600</td>\n",
       "      <td>9</td>\n",
       "      <td>4</td>\n",
       "      <td>10</td>\n",
       "      <td>8.2188</td>\n",
       "      <td>12</td>\n",
       "      <td>2</td>\n",
       "      <td>3.0</td>\n",
       "      <td>0</td>\n",
       "      <td>L</td>\n",
       "    </tr>\n",
       "    <tr>\n",
       "      <th>2</th>\n",
       "      <td>82</td>\n",
       "      <td>73</td>\n",
       "      <td>2015</td>\n",
       "      <td>8/8/2015 18:00</td>\n",
       "      <td>h</td>\n",
       "      <td>0</td>\n",
       "      <td>0.876106</td>\n",
       "      <td>11</td>\n",
       "      <td>2</td>\n",
       "      <td>11</td>\n",
       "      <td>6.9000</td>\n",
       "      <td>13</td>\n",
       "      <td>6</td>\n",
       "      <td>3.0</td>\n",
       "      <td>0</td>\n",
       "      <td>L</td>\n",
       "    </tr>\n",
       "    <tr>\n",
       "      <th>3</th>\n",
       "      <td>82</td>\n",
       "      <td>71</td>\n",
       "      <td>2015</td>\n",
       "      <td>8/8/2015 18:00</td>\n",
       "      <td>a</td>\n",
       "      <td>1</td>\n",
       "      <td>0.782253</td>\n",
       "      <td>7</td>\n",
       "      <td>3</td>\n",
       "      <td>2</td>\n",
       "      <td>11.8462</td>\n",
       "      <td>13</td>\n",
       "      <td>3</td>\n",
       "      <td>4.0</td>\n",
       "      <td>0</td>\n",
       "      <td>W</td>\n",
       "    </tr>\n",
       "    <tr>\n",
       "      <th>4</th>\n",
       "      <td>83</td>\n",
       "      <td>72</td>\n",
       "      <td>2015</td>\n",
       "      <td>8/8/2015 18:00</td>\n",
       "      <td>h</td>\n",
       "      <td>2</td>\n",
       "      <td>0.604226</td>\n",
       "      <td>10</td>\n",
       "      <td>5</td>\n",
       "      <td>5</td>\n",
       "      <td>6.6500</td>\n",
       "      <td>7</td>\n",
       "      <td>8</td>\n",
       "      <td>1.0</td>\n",
       "      <td>0</td>\n",
       "      <td>D</td>\n",
       "    </tr>\n",
       "  </tbody>\n",
       "</table>\n",
       "</div>"
      ],
      "text/plain": [
       "   gameID  teamID  season            date location  goals    xGoals  shots   \n",
       "0      81      89    2015  8/8/2015 15:45        h      1  0.627539      9  \\\n",
       "1      81      82    2015  8/8/2015 15:45        a      0  0.674600      9   \n",
       "2      82      73    2015  8/8/2015 18:00        h      0  0.876106     11   \n",
       "3      82      71    2015  8/8/2015 18:00        a      1  0.782253      7   \n",
       "4      83      72    2015  8/8/2015 18:00        h      2  0.604226     10   \n",
       "\n",
       "   shotsOnTarget  deep     ppda  fouls  corners  yellowCards  redCards result  \n",
       "0              1     4  13.8261     12        1          2.0         0      W  \n",
       "1              4    10   8.2188     12        2          3.0         0      L  \n",
       "2              2    11   6.9000     13        6          3.0         0      L  \n",
       "3              3     2  11.8462     13        3          4.0         0      W  \n",
       "4              5     5   6.6500      7        8          1.0         0      D  "
      ]
     },
     "metadata": {},
     "output_type": "display_data"
    },
    {
     "name": "stdout",
     "output_type": "stream",
     "text": [
      "\n",
      " INFO\n",
      "<class 'pandas.core.frame.DataFrame'>\n",
      "RangeIndex: 25360 entries, 0 to 25359\n",
      "Data columns (total 16 columns):\n",
      " #   Column         Non-Null Count  Dtype  \n",
      "---  ------         --------------  -----  \n",
      " 0   gameID         25360 non-null  int64  \n",
      " 1   teamID         25360 non-null  int64  \n",
      " 2   season         25360 non-null  int64  \n",
      " 3   date           25360 non-null  object \n",
      " 4   location       25360 non-null  object \n",
      " 5   goals          25360 non-null  int64  \n",
      " 6   xGoals         25360 non-null  float64\n",
      " 7   shots          25360 non-null  int64  \n",
      " 8   shotsOnTarget  25360 non-null  int64  \n",
      " 9   deep           25360 non-null  int64  \n",
      " 10  ppda           25360 non-null  float64\n",
      " 11  fouls          25360 non-null  int64  \n",
      " 12  corners        25360 non-null  int64  \n",
      " 13  yellowCards    25359 non-null  float64\n",
      " 14  redCards       25360 non-null  int64  \n",
      " 15  result         25360 non-null  object \n",
      "dtypes: float64(3), int64(10), object(3)\n",
      "memory usage: 3.1+ MB\n"
     ]
    },
    {
     "data": {
      "text/plain": [
       "None"
      ]
     },
     "metadata": {},
     "output_type": "display_data"
    },
    {
     "name": "stdout",
     "output_type": "stream",
     "text": [
      "\n",
      "SHAPE OF DATA (25360, 16)\n"
     ]
    }
   ],
   "source": [
    "eda = DataExploration(teamstats)\n",
    "eda.run_eda()"
   ]
  },
  {
   "cell_type": "markdown",
   "metadata": {},
   "source": [
    "### 3.4 Exploring Players Data\n",
    "We explore the `players` dataset."
   ]
  },
  {
   "cell_type": "code",
   "execution_count": 37,
   "metadata": {},
   "outputs": [
    {
     "name": "stdout",
     "output_type": "stream",
     "text": [
      "\n",
      " TOP 5 RECORDS\n"
     ]
    },
    {
     "data": {
      "text/html": [
       "<div>\n",
       "<style scoped>\n",
       "    .dataframe tbody tr th:only-of-type {\n",
       "        vertical-align: middle;\n",
       "    }\n",
       "\n",
       "    .dataframe tbody tr th {\n",
       "        vertical-align: top;\n",
       "    }\n",
       "\n",
       "    .dataframe thead th {\n",
       "        text-align: right;\n",
       "    }\n",
       "</style>\n",
       "<table border=\"1\" class=\"dataframe\">\n",
       "  <thead>\n",
       "    <tr style=\"text-align: right;\">\n",
       "      <th></th>\n",
       "      <th>playerID</th>\n",
       "      <th>name</th>\n",
       "    </tr>\n",
       "  </thead>\n",
       "  <tbody>\n",
       "    <tr>\n",
       "      <th>0</th>\n",
       "      <td>560</td>\n",
       "      <td>Sergio Romero</td>\n",
       "    </tr>\n",
       "    <tr>\n",
       "      <th>1</th>\n",
       "      <td>557</td>\n",
       "      <td>Matteo Darmian</td>\n",
       "    </tr>\n",
       "    <tr>\n",
       "      <th>2</th>\n",
       "      <td>548</td>\n",
       "      <td>Daley Blind</td>\n",
       "    </tr>\n",
       "    <tr>\n",
       "      <th>3</th>\n",
       "      <td>628</td>\n",
       "      <td>Chris Smalling</td>\n",
       "    </tr>\n",
       "    <tr>\n",
       "      <th>4</th>\n",
       "      <td>1006</td>\n",
       "      <td>Luke Shaw</td>\n",
       "    </tr>\n",
       "  </tbody>\n",
       "</table>\n",
       "</div>"
      ],
      "text/plain": [
       "   playerID            name\n",
       "0       560   Sergio Romero\n",
       "1       557  Matteo Darmian\n",
       "2       548     Daley Blind\n",
       "3       628  Chris Smalling\n",
       "4      1006       Luke Shaw"
      ]
     },
     "metadata": {},
     "output_type": "display_data"
    },
    {
     "name": "stdout",
     "output_type": "stream",
     "text": [
      "\n",
      " INFO\n",
      "<class 'pandas.core.frame.DataFrame'>\n",
      "RangeIndex: 7659 entries, 0 to 7658\n",
      "Data columns (total 2 columns):\n",
      " #   Column    Non-Null Count  Dtype \n",
      "---  ------    --------------  ----- \n",
      " 0   playerID  7659 non-null   int64 \n",
      " 1   name      7659 non-null   object\n",
      "dtypes: int64(1), object(1)\n",
      "memory usage: 119.8+ KB\n"
     ]
    },
    {
     "data": {
      "text/plain": [
       "None"
      ]
     },
     "metadata": {},
     "output_type": "display_data"
    },
    {
     "name": "stdout",
     "output_type": "stream",
     "text": [
      "\n",
      "SHAPE OF DATA (7659, 2)\n"
     ]
    }
   ],
   "source": [
    "eda_players = DataExploration(players)\n",
    "eda_players.run_eda()"
   ]
  },
  {
   "cell_type": "markdown",
   "metadata": {},
   "source": [
    "### 3.5 Exploring Leagues Data\n",
    "We explore the `leagues` dataset."
   ]
  },
  {
   "cell_type": "code",
   "execution_count": 38,
   "metadata": {},
   "outputs": [
    {
     "name": "stdout",
     "output_type": "stream",
     "text": [
      "\n",
      " TOP 5 RECORDS\n"
     ]
    },
    {
     "data": {
      "text/html": [
       "<div>\n",
       "<style scoped>\n",
       "    .dataframe tbody tr th:only-of-type {\n",
       "        vertical-align: middle;\n",
       "    }\n",
       "\n",
       "    .dataframe tbody tr th {\n",
       "        vertical-align: top;\n",
       "    }\n",
       "\n",
       "    .dataframe thead th {\n",
       "        text-align: right;\n",
       "    }\n",
       "</style>\n",
       "<table border=\"1\" class=\"dataframe\">\n",
       "  <thead>\n",
       "    <tr style=\"text-align: right;\">\n",
       "      <th></th>\n",
       "      <th>leagueID</th>\n",
       "      <th>name</th>\n",
       "      <th>understatNotation</th>\n",
       "    </tr>\n",
       "  </thead>\n",
       "  <tbody>\n",
       "    <tr>\n",
       "      <th>0</th>\n",
       "      <td>1</td>\n",
       "      <td>Premier League</td>\n",
       "      <td>EPL</td>\n",
       "    </tr>\n",
       "    <tr>\n",
       "      <th>1</th>\n",
       "      <td>2</td>\n",
       "      <td>Serie A</td>\n",
       "      <td>Serie_A</td>\n",
       "    </tr>\n",
       "    <tr>\n",
       "      <th>2</th>\n",
       "      <td>3</td>\n",
       "      <td>Bundesliga</td>\n",
       "      <td>Bundesliga</td>\n",
       "    </tr>\n",
       "    <tr>\n",
       "      <th>3</th>\n",
       "      <td>4</td>\n",
       "      <td>La Liga</td>\n",
       "      <td>La_liga</td>\n",
       "    </tr>\n",
       "    <tr>\n",
       "      <th>4</th>\n",
       "      <td>5</td>\n",
       "      <td>Ligue 1</td>\n",
       "      <td>Ligue_1</td>\n",
       "    </tr>\n",
       "  </tbody>\n",
       "</table>\n",
       "</div>"
      ],
      "text/plain": [
       "   leagueID            name understatNotation\n",
       "0         1  Premier League               EPL\n",
       "1         2         Serie A           Serie_A\n",
       "2         3      Bundesliga        Bundesliga\n",
       "3         4         La Liga           La_liga\n",
       "4         5         Ligue 1           Ligue_1"
      ]
     },
     "metadata": {},
     "output_type": "display_data"
    },
    {
     "name": "stdout",
     "output_type": "stream",
     "text": [
      "\n",
      " INFO\n",
      "<class 'pandas.core.frame.DataFrame'>\n",
      "RangeIndex: 5 entries, 0 to 4\n",
      "Data columns (total 3 columns):\n",
      " #   Column             Non-Null Count  Dtype \n",
      "---  ------             --------------  ----- \n",
      " 0   leagueID           5 non-null      int64 \n",
      " 1   name               5 non-null      object\n",
      " 2   understatNotation  5 non-null      object\n",
      "dtypes: int64(1), object(2)\n",
      "memory usage: 248.0+ bytes\n"
     ]
    },
    {
     "data": {
      "text/plain": [
       "None"
      ]
     },
     "metadata": {},
     "output_type": "display_data"
    },
    {
     "name": "stdout",
     "output_type": "stream",
     "text": [
      "\n",
      "SHAPE OF DATA (5, 3)\n"
     ]
    }
   ],
   "source": [
    "eda_leagues = DataExploration(leagues)\n",
    "eda_leagues.run_eda()"
   ]
  },
  {
   "cell_type": "markdown",
   "metadata": {},
   "source": [
    "### 3.6 Exploring Teams Data\n",
    "We explore the `teams` dataset."
   ]
  },
  {
   "cell_type": "code",
   "execution_count": 39,
   "metadata": {},
   "outputs": [
    {
     "name": "stdout",
     "output_type": "stream",
     "text": [
      "\n",
      " TOP 5 RECORDS\n"
     ]
    },
    {
     "data": {
      "text/html": [
       "<div>\n",
       "<style scoped>\n",
       "    .dataframe tbody tr th:only-of-type {\n",
       "        vertical-align: middle;\n",
       "    }\n",
       "\n",
       "    .dataframe tbody tr th {\n",
       "        vertical-align: top;\n",
       "    }\n",
       "\n",
       "    .dataframe thead th {\n",
       "        text-align: right;\n",
       "    }\n",
       "</style>\n",
       "<table border=\"1\" class=\"dataframe\">\n",
       "  <thead>\n",
       "    <tr style=\"text-align: right;\">\n",
       "      <th></th>\n",
       "      <th>teamID</th>\n",
       "      <th>name</th>\n",
       "    </tr>\n",
       "  </thead>\n",
       "  <tbody>\n",
       "    <tr>\n",
       "      <th>0</th>\n",
       "      <td>71</td>\n",
       "      <td>Aston Villa</td>\n",
       "    </tr>\n",
       "    <tr>\n",
       "      <th>1</th>\n",
       "      <td>72</td>\n",
       "      <td>Everton</td>\n",
       "    </tr>\n",
       "    <tr>\n",
       "      <th>2</th>\n",
       "      <td>74</td>\n",
       "      <td>Southampton</td>\n",
       "    </tr>\n",
       "    <tr>\n",
       "      <th>3</th>\n",
       "      <td>75</td>\n",
       "      <td>Leicester</td>\n",
       "    </tr>\n",
       "    <tr>\n",
       "      <th>4</th>\n",
       "      <td>76</td>\n",
       "      <td>West Bromwich Albion</td>\n",
       "    </tr>\n",
       "  </tbody>\n",
       "</table>\n",
       "</div>"
      ],
      "text/plain": [
       "   teamID                  name\n",
       "0      71           Aston Villa\n",
       "1      72               Everton\n",
       "2      74           Southampton\n",
       "3      75             Leicester\n",
       "4      76  West Bromwich Albion"
      ]
     },
     "metadata": {},
     "output_type": "display_data"
    },
    {
     "name": "stdout",
     "output_type": "stream",
     "text": [
      "\n",
      " INFO\n",
      "<class 'pandas.core.frame.DataFrame'>\n",
      "RangeIndex: 146 entries, 0 to 145\n",
      "Data columns (total 2 columns):\n",
      " #   Column  Non-Null Count  Dtype \n",
      "---  ------  --------------  ----- \n",
      " 0   teamID  146 non-null    int64 \n",
      " 1   name    146 non-null    object\n",
      "dtypes: int64(1), object(1)\n",
      "memory usage: 2.4+ KB\n"
     ]
    },
    {
     "data": {
      "text/plain": [
       "None"
      ]
     },
     "metadata": {},
     "output_type": "display_data"
    },
    {
     "name": "stdout",
     "output_type": "stream",
     "text": [
      "\n",
      "SHAPE OF DATA (146, 2)\n"
     ]
    }
   ],
   "source": [
    "eda_teams = DataExploration(teams)\n",
    "eda_teams.run_eda()"
   ]
  },
  {
   "cell_type": "markdown",
   "metadata": {},
   "source": [
    "### 3.7 Exploring Games Data\n",
    "We explore the `games` dataset."
   ]
  },
  {
   "cell_type": "code",
   "execution_count": 40,
   "metadata": {},
   "outputs": [
    {
     "name": "stdout",
     "output_type": "stream",
     "text": [
      "\n",
      " TOP 5 RECORDS\n"
     ]
    },
    {
     "data": {
      "text/html": [
       "<div>\n",
       "<style scoped>\n",
       "    .dataframe tbody tr th:only-of-type {\n",
       "        vertical-align: middle;\n",
       "    }\n",
       "\n",
       "    .dataframe tbody tr th {\n",
       "        vertical-align: top;\n",
       "    }\n",
       "\n",
       "    .dataframe thead th {\n",
       "        text-align: right;\n",
       "    }\n",
       "</style>\n",
       "<table border=\"1\" class=\"dataframe\">\n",
       "  <thead>\n",
       "    <tr style=\"text-align: right;\">\n",
       "      <th></th>\n",
       "      <th>gameID</th>\n",
       "      <th>leagueID</th>\n",
       "      <th>season</th>\n",
       "      <th>date</th>\n",
       "      <th>homeTeamID</th>\n",
       "      <th>awayTeamID</th>\n",
       "      <th>homeGoals</th>\n",
       "      <th>awayGoals</th>\n",
       "      <th>homeProbability</th>\n",
       "      <th>drawProbability</th>\n",
       "      <th>...</th>\n",
       "      <th>PSA</th>\n",
       "      <th>WHH</th>\n",
       "      <th>WHD</th>\n",
       "      <th>WHA</th>\n",
       "      <th>VCH</th>\n",
       "      <th>VCD</th>\n",
       "      <th>VCA</th>\n",
       "      <th>PSCH</th>\n",
       "      <th>PSCD</th>\n",
       "      <th>PSCA</th>\n",
       "    </tr>\n",
       "  </thead>\n",
       "  <tbody>\n",
       "    <tr>\n",
       "      <th>0</th>\n",
       "      <td>81</td>\n",
       "      <td>1</td>\n",
       "      <td>2015</td>\n",
       "      <td>2015-08-08 15:45:00</td>\n",
       "      <td>89</td>\n",
       "      <td>82</td>\n",
       "      <td>1</td>\n",
       "      <td>0</td>\n",
       "      <td>0.2843</td>\n",
       "      <td>0.3999</td>\n",
       "      <td>...</td>\n",
       "      <td>5.90</td>\n",
       "      <td>1.62</td>\n",
       "      <td>3.6</td>\n",
       "      <td>6.00</td>\n",
       "      <td>1.67</td>\n",
       "      <td>4.00</td>\n",
       "      <td>5.75</td>\n",
       "      <td>1.64</td>\n",
       "      <td>4.07</td>\n",
       "      <td>6.04</td>\n",
       "    </tr>\n",
       "    <tr>\n",
       "      <th>1</th>\n",
       "      <td>82</td>\n",
       "      <td>1</td>\n",
       "      <td>2015</td>\n",
       "      <td>2015-08-08 18:00:00</td>\n",
       "      <td>73</td>\n",
       "      <td>71</td>\n",
       "      <td>0</td>\n",
       "      <td>1</td>\n",
       "      <td>0.3574</td>\n",
       "      <td>0.3500</td>\n",
       "      <td>...</td>\n",
       "      <td>4.27</td>\n",
       "      <td>1.91</td>\n",
       "      <td>3.5</td>\n",
       "      <td>4.00</td>\n",
       "      <td>2.00</td>\n",
       "      <td>3.50</td>\n",
       "      <td>4.20</td>\n",
       "      <td>1.82</td>\n",
       "      <td>3.88</td>\n",
       "      <td>4.70</td>\n",
       "    </tr>\n",
       "    <tr>\n",
       "      <th>2</th>\n",
       "      <td>83</td>\n",
       "      <td>1</td>\n",
       "      <td>2015</td>\n",
       "      <td>2015-08-08 18:00:00</td>\n",
       "      <td>72</td>\n",
       "      <td>90</td>\n",
       "      <td>2</td>\n",
       "      <td>2</td>\n",
       "      <td>0.2988</td>\n",
       "      <td>0.4337</td>\n",
       "      <td>...</td>\n",
       "      <td>5.62</td>\n",
       "      <td>1.73</td>\n",
       "      <td>3.5</td>\n",
       "      <td>5.00</td>\n",
       "      <td>1.73</td>\n",
       "      <td>3.90</td>\n",
       "      <td>5.40</td>\n",
       "      <td>1.75</td>\n",
       "      <td>3.76</td>\n",
       "      <td>5.44</td>\n",
       "    </tr>\n",
       "    <tr>\n",
       "      <th>3</th>\n",
       "      <td>84</td>\n",
       "      <td>1</td>\n",
       "      <td>2015</td>\n",
       "      <td>2015-08-08 18:00:00</td>\n",
       "      <td>75</td>\n",
       "      <td>77</td>\n",
       "      <td>4</td>\n",
       "      <td>2</td>\n",
       "      <td>0.6422</td>\n",
       "      <td>0.2057</td>\n",
       "      <td>...</td>\n",
       "      <td>4.34</td>\n",
       "      <td>2.00</td>\n",
       "      <td>3.1</td>\n",
       "      <td>2.70</td>\n",
       "      <td>2.00</td>\n",
       "      <td>3.40</td>\n",
       "      <td>4.33</td>\n",
       "      <td>1.79</td>\n",
       "      <td>3.74</td>\n",
       "      <td>5.10</td>\n",
       "    </tr>\n",
       "    <tr>\n",
       "      <th>4</th>\n",
       "      <td>85</td>\n",
       "      <td>1</td>\n",
       "      <td>2015</td>\n",
       "      <td>2015-08-08 18:00:00</td>\n",
       "      <td>79</td>\n",
       "      <td>78</td>\n",
       "      <td>1</td>\n",
       "      <td>3</td>\n",
       "      <td>0.1461</td>\n",
       "      <td>0.2159</td>\n",
       "      <td>...</td>\n",
       "      <td>3.08</td>\n",
       "      <td>2.60</td>\n",
       "      <td>3.1</td>\n",
       "      <td>2.88</td>\n",
       "      <td>2.60</td>\n",
       "      <td>3.25</td>\n",
       "      <td>3.00</td>\n",
       "      <td>2.46</td>\n",
       "      <td>3.39</td>\n",
       "      <td>3.14</td>\n",
       "    </tr>\n",
       "  </tbody>\n",
       "</table>\n",
       "<p>5 rows × 34 columns</p>\n",
       "</div>"
      ],
      "text/plain": [
       "   gameID  leagueID  season                 date  homeTeamID  awayTeamID   \n",
       "0      81         1    2015  2015-08-08 15:45:00          89          82  \\\n",
       "1      82         1    2015  2015-08-08 18:00:00          73          71   \n",
       "2      83         1    2015  2015-08-08 18:00:00          72          90   \n",
       "3      84         1    2015  2015-08-08 18:00:00          75          77   \n",
       "4      85         1    2015  2015-08-08 18:00:00          79          78   \n",
       "\n",
       "   homeGoals  awayGoals  homeProbability  drawProbability  ...   PSA   WHH   \n",
       "0          1          0           0.2843           0.3999  ...  5.90  1.62  \\\n",
       "1          0          1           0.3574           0.3500  ...  4.27  1.91   \n",
       "2          2          2           0.2988           0.4337  ...  5.62  1.73   \n",
       "3          4          2           0.6422           0.2057  ...  4.34  2.00   \n",
       "4          1          3           0.1461           0.2159  ...  3.08  2.60   \n",
       "\n",
       "   WHD   WHA   VCH   VCD   VCA  PSCH  PSCD  PSCA  \n",
       "0  3.6  6.00  1.67  4.00  5.75  1.64  4.07  6.04  \n",
       "1  3.5  4.00  2.00  3.50  4.20  1.82  3.88  4.70  \n",
       "2  3.5  5.00  1.73  3.90  5.40  1.75  3.76  5.44  \n",
       "3  3.1  2.70  2.00  3.40  4.33  1.79  3.74  5.10  \n",
       "4  3.1  2.88  2.60  3.25  3.00  2.46  3.39  3.14  \n",
       "\n",
       "[5 rows x 34 columns]"
      ]
     },
     "metadata": {},
     "output_type": "display_data"
    },
    {
     "name": "stdout",
     "output_type": "stream",
     "text": [
      "\n",
      " INFO\n",
      "<class 'pandas.core.frame.DataFrame'>\n",
      "RangeIndex: 12680 entries, 0 to 12679\n",
      "Data columns (total 34 columns):\n",
      " #   Column             Non-Null Count  Dtype  \n",
      "---  ------             --------------  -----  \n",
      " 0   gameID             12680 non-null  int64  \n",
      " 1   leagueID           12680 non-null  int64  \n",
      " 2   season             12680 non-null  int64  \n",
      " 3   date               12680 non-null  object \n",
      " 4   homeTeamID         12680 non-null  int64  \n",
      " 5   awayTeamID         12680 non-null  int64  \n",
      " 6   homeGoals          12680 non-null  int64  \n",
      " 7   awayGoals          12680 non-null  int64  \n",
      " 8   homeProbability    12680 non-null  float64\n",
      " 9   drawProbability    12680 non-null  float64\n",
      " 10  awayProbability    12680 non-null  float64\n",
      " 11  homeGoalsHalfTime  12680 non-null  int64  \n",
      " 12  awayGoalsHalfTime  12680 non-null  int64  \n",
      " 13  B365H              12675 non-null  float64\n",
      " 14  B365D              12675 non-null  float64\n",
      " 15  B365A              12675 non-null  float64\n",
      " 16  BWH                12677 non-null  float64\n",
      " 17  BWD                12677 non-null  float64\n",
      " 18  BWA                12677 non-null  float64\n",
      " 19  IWH                12662 non-null  float64\n",
      " 20  IWD                12662 non-null  float64\n",
      " 21  IWA                12662 non-null  float64\n",
      " 22  PSH                12660 non-null  float64\n",
      " 23  PSD                12660 non-null  float64\n",
      " 24  PSA                12660 non-null  float64\n",
      " 25  WHH                12674 non-null  float64\n",
      " 26  WHD                12674 non-null  float64\n",
      " 27  WHA                12674 non-null  float64\n",
      " 28  VCH                12676 non-null  float64\n",
      " 29  VCD                12676 non-null  float64\n",
      " 30  VCA                12676 non-null  float64\n",
      " 31  PSCH               12678 non-null  float64\n",
      " 32  PSCD               12678 non-null  float64\n",
      " 33  PSCA               12678 non-null  float64\n",
      "dtypes: float64(24), int64(9), object(1)\n",
      "memory usage: 3.3+ MB\n"
     ]
    },
    {
     "data": {
      "text/plain": [
       "None"
      ]
     },
     "metadata": {},
     "output_type": "display_data"
    },
    {
     "name": "stdout",
     "output_type": "stream",
     "text": [
      "\n",
      "SHAPE OF DATA (12680, 34)\n"
     ]
    }
   ],
   "source": [
    "eda_games = DataExploration(games)\n",
    "eda_games.run_eda()"
   ]
  },
  {
   "cell_type": "markdown",
   "metadata": {},
   "source": [
    "### 3.8 Exploring Shots Data\n",
    "We explore the `shots` dataset."
   ]
  },
  {
   "cell_type": "code",
   "execution_count": 41,
   "metadata": {},
   "outputs": [
    {
     "name": "stdout",
     "output_type": "stream",
     "text": [
      "\n",
      " TOP 5 RECORDS\n"
     ]
    },
    {
     "data": {
      "text/html": [
       "<div>\n",
       "<style scoped>\n",
       "    .dataframe tbody tr th:only-of-type {\n",
       "        vertical-align: middle;\n",
       "    }\n",
       "\n",
       "    .dataframe tbody tr th {\n",
       "        vertical-align: top;\n",
       "    }\n",
       "\n",
       "    .dataframe thead th {\n",
       "        text-align: right;\n",
       "    }\n",
       "</style>\n",
       "<table border=\"1\" class=\"dataframe\">\n",
       "  <thead>\n",
       "    <tr style=\"text-align: right;\">\n",
       "      <th></th>\n",
       "      <th>gameID</th>\n",
       "      <th>shooterID</th>\n",
       "      <th>assisterID</th>\n",
       "      <th>minute</th>\n",
       "      <th>situation</th>\n",
       "      <th>lastAction</th>\n",
       "      <th>shotType</th>\n",
       "      <th>shotResult</th>\n",
       "      <th>xGoal</th>\n",
       "      <th>positionX</th>\n",
       "      <th>positionY</th>\n",
       "    </tr>\n",
       "  </thead>\n",
       "  <tbody>\n",
       "    <tr>\n",
       "      <th>0</th>\n",
       "      <td>81</td>\n",
       "      <td>554</td>\n",
       "      <td>NaN</td>\n",
       "      <td>27</td>\n",
       "      <td>DirectFreekick</td>\n",
       "      <td>Standard</td>\n",
       "      <td>LeftFoot</td>\n",
       "      <td>BlockedShot</td>\n",
       "      <td>0.104347</td>\n",
       "      <td>0.794</td>\n",
       "      <td>0.421</td>\n",
       "    </tr>\n",
       "    <tr>\n",
       "      <th>1</th>\n",
       "      <td>81</td>\n",
       "      <td>555</td>\n",
       "      <td>631.0</td>\n",
       "      <td>27</td>\n",
       "      <td>SetPiece</td>\n",
       "      <td>Pass</td>\n",
       "      <td>RightFoot</td>\n",
       "      <td>BlockedShot</td>\n",
       "      <td>0.064342</td>\n",
       "      <td>0.860</td>\n",
       "      <td>0.627</td>\n",
       "    </tr>\n",
       "    <tr>\n",
       "      <th>2</th>\n",
       "      <td>81</td>\n",
       "      <td>554</td>\n",
       "      <td>629.0</td>\n",
       "      <td>35</td>\n",
       "      <td>OpenPlay</td>\n",
       "      <td>Pass</td>\n",
       "      <td>LeftFoot</td>\n",
       "      <td>BlockedShot</td>\n",
       "      <td>0.057157</td>\n",
       "      <td>0.843</td>\n",
       "      <td>0.333</td>\n",
       "    </tr>\n",
       "    <tr>\n",
       "      <th>3</th>\n",
       "      <td>81</td>\n",
       "      <td>554</td>\n",
       "      <td>NaN</td>\n",
       "      <td>35</td>\n",
       "      <td>OpenPlay</td>\n",
       "      <td>Tackle</td>\n",
       "      <td>LeftFoot</td>\n",
       "      <td>MissedShots</td>\n",
       "      <td>0.092141</td>\n",
       "      <td>0.848</td>\n",
       "      <td>0.533</td>\n",
       "    </tr>\n",
       "    <tr>\n",
       "      <th>4</th>\n",
       "      <td>81</td>\n",
       "      <td>555</td>\n",
       "      <td>654.0</td>\n",
       "      <td>40</td>\n",
       "      <td>OpenPlay</td>\n",
       "      <td>BallRecovery</td>\n",
       "      <td>RightFoot</td>\n",
       "      <td>BlockedShot</td>\n",
       "      <td>0.035742</td>\n",
       "      <td>0.812</td>\n",
       "      <td>0.707</td>\n",
       "    </tr>\n",
       "  </tbody>\n",
       "</table>\n",
       "</div>"
      ],
      "text/plain": [
       "   gameID  shooterID  assisterID  minute       situation    lastAction   \n",
       "0      81        554         NaN      27  DirectFreekick      Standard  \\\n",
       "1      81        555       631.0      27        SetPiece          Pass   \n",
       "2      81        554       629.0      35        OpenPlay          Pass   \n",
       "3      81        554         NaN      35        OpenPlay        Tackle   \n",
       "4      81        555       654.0      40        OpenPlay  BallRecovery   \n",
       "\n",
       "    shotType   shotResult     xGoal  positionX  positionY  \n",
       "0   LeftFoot  BlockedShot  0.104347      0.794      0.421  \n",
       "1  RightFoot  BlockedShot  0.064342      0.860      0.627  \n",
       "2   LeftFoot  BlockedShot  0.057157      0.843      0.333  \n",
       "3   LeftFoot  MissedShots  0.092141      0.848      0.533  \n",
       "4  RightFoot  BlockedShot  0.035742      0.812      0.707  "
      ]
     },
     "metadata": {},
     "output_type": "display_data"
    },
    {
     "name": "stdout",
     "output_type": "stream",
     "text": [
      "\n",
      " INFO\n",
      "<class 'pandas.core.frame.DataFrame'>\n",
      "RangeIndex: 324542 entries, 0 to 324541\n",
      "Data columns (total 11 columns):\n",
      " #   Column      Non-Null Count   Dtype  \n",
      "---  ------      --------------   -----  \n",
      " 0   gameID      324542 non-null  int64  \n",
      " 1   shooterID   324542 non-null  int64  \n",
      " 2   assisterID  240198 non-null  float64\n",
      " 3   minute      324542 non-null  int64  \n",
      " 4   situation   324542 non-null  object \n",
      " 5   lastAction  287646 non-null  object \n",
      " 6   shotType    324542 non-null  object \n",
      " 7   shotResult  324542 non-null  object \n",
      " 8   xGoal       324542 non-null  float64\n",
      " 9   positionX   324542 non-null  float64\n",
      " 10  positionY   324542 non-null  float64\n",
      "dtypes: float64(4), int64(3), object(4)\n",
      "memory usage: 27.2+ MB\n"
     ]
    },
    {
     "data": {
      "text/plain": [
       "None"
      ]
     },
     "metadata": {},
     "output_type": "display_data"
    },
    {
     "name": "stdout",
     "output_type": "stream",
     "text": [
      "\n",
      "SHAPE OF DATA (324542, 11)\n"
     ]
    }
   ],
   "source": [
    "eda_shots = DataExploration(shots)\n",
    "eda_shots.run_eda()"
   ]
  },
  {
   "cell_type": "markdown",
   "metadata": {},
   "source": [
    "### 3.9 Exploring Appearances Data\n",
    "We explore the `appearances` dataset."
   ]
  },
  {
   "cell_type": "code",
   "execution_count": 42,
   "metadata": {},
   "outputs": [
    {
     "name": "stdout",
     "output_type": "stream",
     "text": [
      "\n",
      " TOP 5 RECORDS\n"
     ]
    },
    {
     "data": {
      "text/html": [
       "<div>\n",
       "<style scoped>\n",
       "    .dataframe tbody tr th:only-of-type {\n",
       "        vertical-align: middle;\n",
       "    }\n",
       "\n",
       "    .dataframe tbody tr th {\n",
       "        vertical-align: top;\n",
       "    }\n",
       "\n",
       "    .dataframe thead th {\n",
       "        text-align: right;\n",
       "    }\n",
       "</style>\n",
       "<table border=\"1\" class=\"dataframe\">\n",
       "  <thead>\n",
       "    <tr style=\"text-align: right;\">\n",
       "      <th></th>\n",
       "      <th>gameID</th>\n",
       "      <th>playerID</th>\n",
       "      <th>goals</th>\n",
       "      <th>ownGoals</th>\n",
       "      <th>shots</th>\n",
       "      <th>xGoals</th>\n",
       "      <th>xGoalsChain</th>\n",
       "      <th>xGoalsBuildup</th>\n",
       "      <th>assists</th>\n",
       "      <th>keyPasses</th>\n",
       "      <th>xAssists</th>\n",
       "      <th>position</th>\n",
       "      <th>positionOrder</th>\n",
       "      <th>yellowCard</th>\n",
       "      <th>redCard</th>\n",
       "      <th>time</th>\n",
       "      <th>substituteIn</th>\n",
       "      <th>substituteOut</th>\n",
       "      <th>leagueID</th>\n",
       "    </tr>\n",
       "  </thead>\n",
       "  <tbody>\n",
       "    <tr>\n",
       "      <th>0</th>\n",
       "      <td>81</td>\n",
       "      <td>560</td>\n",
       "      <td>0</td>\n",
       "      <td>0</td>\n",
       "      <td>0</td>\n",
       "      <td>0.0</td>\n",
       "      <td>0.000000</td>\n",
       "      <td>0.000000</td>\n",
       "      <td>0</td>\n",
       "      <td>0</td>\n",
       "      <td>0.000000</td>\n",
       "      <td>GK</td>\n",
       "      <td>1</td>\n",
       "      <td>0</td>\n",
       "      <td>0</td>\n",
       "      <td>90</td>\n",
       "      <td>0</td>\n",
       "      <td>0</td>\n",
       "      <td>1</td>\n",
       "    </tr>\n",
       "    <tr>\n",
       "      <th>1</th>\n",
       "      <td>81</td>\n",
       "      <td>557</td>\n",
       "      <td>0</td>\n",
       "      <td>0</td>\n",
       "      <td>0</td>\n",
       "      <td>0.0</td>\n",
       "      <td>0.106513</td>\n",
       "      <td>0.106513</td>\n",
       "      <td>0</td>\n",
       "      <td>1</td>\n",
       "      <td>0.106513</td>\n",
       "      <td>DR</td>\n",
       "      <td>2</td>\n",
       "      <td>0</td>\n",
       "      <td>0</td>\n",
       "      <td>82</td>\n",
       "      <td>222605</td>\n",
       "      <td>0</td>\n",
       "      <td>1</td>\n",
       "    </tr>\n",
       "    <tr>\n",
       "      <th>2</th>\n",
       "      <td>81</td>\n",
       "      <td>548</td>\n",
       "      <td>0</td>\n",
       "      <td>0</td>\n",
       "      <td>0</td>\n",
       "      <td>0.0</td>\n",
       "      <td>0.127738</td>\n",
       "      <td>0.127738</td>\n",
       "      <td>0</td>\n",
       "      <td>0</td>\n",
       "      <td>0.000000</td>\n",
       "      <td>DC</td>\n",
       "      <td>3</td>\n",
       "      <td>0</td>\n",
       "      <td>0</td>\n",
       "      <td>90</td>\n",
       "      <td>0</td>\n",
       "      <td>0</td>\n",
       "      <td>1</td>\n",
       "    </tr>\n",
       "    <tr>\n",
       "      <th>3</th>\n",
       "      <td>81</td>\n",
       "      <td>628</td>\n",
       "      <td>0</td>\n",
       "      <td>0</td>\n",
       "      <td>0</td>\n",
       "      <td>0.0</td>\n",
       "      <td>0.106513</td>\n",
       "      <td>0.106513</td>\n",
       "      <td>0</td>\n",
       "      <td>0</td>\n",
       "      <td>0.000000</td>\n",
       "      <td>DC</td>\n",
       "      <td>3</td>\n",
       "      <td>0</td>\n",
       "      <td>0</td>\n",
       "      <td>90</td>\n",
       "      <td>0</td>\n",
       "      <td>0</td>\n",
       "      <td>1</td>\n",
       "    </tr>\n",
       "    <tr>\n",
       "      <th>4</th>\n",
       "      <td>81</td>\n",
       "      <td>1006</td>\n",
       "      <td>0</td>\n",
       "      <td>0</td>\n",
       "      <td>0</td>\n",
       "      <td>0.0</td>\n",
       "      <td>0.021225</td>\n",
       "      <td>0.021225</td>\n",
       "      <td>0</td>\n",
       "      <td>0</td>\n",
       "      <td>0.000000</td>\n",
       "      <td>DL</td>\n",
       "      <td>4</td>\n",
       "      <td>0</td>\n",
       "      <td>0</td>\n",
       "      <td>90</td>\n",
       "      <td>0</td>\n",
       "      <td>0</td>\n",
       "      <td>1</td>\n",
       "    </tr>\n",
       "  </tbody>\n",
       "</table>\n",
       "</div>"
      ],
      "text/plain": [
       "   gameID  playerID  goals  ownGoals  shots  xGoals  xGoalsChain   \n",
       "0      81       560      0         0      0     0.0     0.000000  \\\n",
       "1      81       557      0         0      0     0.0     0.106513   \n",
       "2      81       548      0         0      0     0.0     0.127738   \n",
       "3      81       628      0         0      0     0.0     0.106513   \n",
       "4      81      1006      0         0      0     0.0     0.021225   \n",
       "\n",
       "   xGoalsBuildup  assists  keyPasses  xAssists position  positionOrder   \n",
       "0       0.000000        0          0  0.000000       GK              1  \\\n",
       "1       0.106513        0          1  0.106513       DR              2   \n",
       "2       0.127738        0          0  0.000000       DC              3   \n",
       "3       0.106513        0          0  0.000000       DC              3   \n",
       "4       0.021225        0          0  0.000000       DL              4   \n",
       "\n",
       "   yellowCard  redCard  time  substituteIn  substituteOut  leagueID  \n",
       "0           0        0    90             0              0         1  \n",
       "1           0        0    82        222605              0         1  \n",
       "2           0        0    90             0              0         1  \n",
       "3           0        0    90             0              0         1  \n",
       "4           0        0    90             0              0         1  "
      ]
     },
     "metadata": {},
     "output_type": "display_data"
    },
    {
     "name": "stdout",
     "output_type": "stream",
     "text": [
      "\n",
      " INFO\n",
      "<class 'pandas.core.frame.DataFrame'>\n",
      "RangeIndex: 356513 entries, 0 to 356512\n",
      "Data columns (total 19 columns):\n",
      " #   Column         Non-Null Count   Dtype  \n",
      "---  ------         --------------   -----  \n",
      " 0   gameID         356513 non-null  int64  \n",
      " 1   playerID       356513 non-null  int64  \n",
      " 2   goals          356513 non-null  int64  \n",
      " 3   ownGoals       356513 non-null  int64  \n",
      " 4   shots          356513 non-null  int64  \n",
      " 5   xGoals         356513 non-null  float64\n",
      " 6   xGoalsChain    356513 non-null  float64\n",
      " 7   xGoalsBuildup  356513 non-null  float64\n",
      " 8   assists        356513 non-null  int64  \n",
      " 9   keyPasses      356513 non-null  int64  \n",
      " 10  xAssists       356513 non-null  float64\n",
      " 11  position       356513 non-null  object \n",
      " 12  positionOrder  356513 non-null  int64  \n",
      " 13  yellowCard     356513 non-null  int64  \n",
      " 14  redCard        356513 non-null  int64  \n",
      " 15  time           356513 non-null  int64  \n",
      " 16  substituteIn   356513 non-null  int64  \n",
      " 17  substituteOut  356513 non-null  int64  \n",
      " 18  leagueID       356513 non-null  int64  \n",
      "dtypes: float64(4), int64(14), object(1)\n",
      "memory usage: 51.7+ MB\n"
     ]
    },
    {
     "data": {
      "text/plain": [
       "None"
      ]
     },
     "metadata": {},
     "output_type": "display_data"
    },
    {
     "name": "stdout",
     "output_type": "stream",
     "text": [
      "\n",
      "SHAPE OF DATA (356513, 19)\n"
     ]
    }
   ],
   "source": [
    "eda_appearances = DataExploration(appearances)\n",
    "eda_appearances.run_eda()"
   ]
  },
  {
   "cell_type": "markdown",
   "metadata": {},
   "source": []
  },
  {
   "cell_type": "markdown",
   "metadata": {},
   "source": [
    "## 4. Data Cleaning & Transformation\n"
   ]
  },
  {
   "cell_type": "markdown",
   "metadata": {},
   "source": [
    "### 4.1 Removing Betting Related Fields\n",
    "We remove betting-related fields from the games dataset."
   ]
  },
  {
   "cell_type": "code",
   "execution_count": 43,
   "metadata": {},
   "outputs": [],
   "source": [
    "games = games.iloc[:, 0:13]  # Remove betting related fields"
   ]
  },
  {
   "cell_type": "markdown",
   "metadata": {},
   "source": [
    "### 4.2 Handling Missing Values\n",
    "We handle missing values in the teamstats dataset."
   ]
  },
  {
   "cell_type": "code",
   "execution_count": 44,
   "metadata": {},
   "outputs": [],
   "source": [
    "teamstats['yellowCards'].replace([\"None\"], [0], inplace=True)"
   ]
  },
  {
   "cell_type": "markdown",
   "metadata": {},
   "source": [
    "## 5. El Clásico Analysis"
   ]
  },
  {
   "cell_type": "markdown",
   "metadata": {},
   "source": [
    "### 5.1 Filtering Teams\n",
    "We filter the teams involved in El Clásico (Barcelona and Real Madrid)."
   ]
  },
  {
   "cell_type": "code",
   "execution_count": 45,
   "metadata": {},
   "outputs": [
    {
     "data": {
      "text/html": [
       "<div>\n",
       "<style scoped>\n",
       "    .dataframe tbody tr th:only-of-type {\n",
       "        vertical-align: middle;\n",
       "    }\n",
       "\n",
       "    .dataframe tbody tr th {\n",
       "        vertical-align: top;\n",
       "    }\n",
       "\n",
       "    .dataframe thead th {\n",
       "        text-align: right;\n",
       "    }\n",
       "</style>\n",
       "<table border=\"1\" class=\"dataframe\">\n",
       "  <thead>\n",
       "    <tr style=\"text-align: right;\">\n",
       "      <th></th>\n",
       "      <th>teamID</th>\n",
       "      <th>name</th>\n",
       "    </tr>\n",
       "  </thead>\n",
       "  <tbody>\n",
       "    <tr>\n",
       "      <th>41</th>\n",
       "      <td>148</td>\n",
       "      <td>Barcelona</td>\n",
       "    </tr>\n",
       "    <tr>\n",
       "      <th>42</th>\n",
       "      <td>150</td>\n",
       "      <td>Real Madrid</td>\n",
       "    </tr>\n",
       "  </tbody>\n",
       "</table>\n",
       "</div>"
      ],
      "text/plain": [
       "    teamID         name\n",
       "41     148    Barcelona\n",
       "42     150  Real Madrid"
      ]
     },
     "execution_count": 45,
     "metadata": {},
     "output_type": "execute_result"
    }
   ],
   "source": [
    "filtered_teams = teams[teams['name'].str.startswith('Bar') | teams['name'].str.contains('Real M')]\n",
    "filtered_teams.head()"
   ]
  },
  {
   "cell_type": "markdown",
   "metadata": {},
   "source": [
    "### 5.2 Merging Data for El Clásico\n",
    "We merge the data to analyze El Clásico matches."
   ]
  },
  {
   "cell_type": "code",
   "execution_count": 46,
   "metadata": {},
   "outputs": [
    {
     "data": {
      "text/html": [
       "<div>\n",
       "<style scoped>\n",
       "    .dataframe tbody tr th:only-of-type {\n",
       "        vertical-align: middle;\n",
       "    }\n",
       "\n",
       "    .dataframe tbody tr th {\n",
       "        vertical-align: top;\n",
       "    }\n",
       "\n",
       "    .dataframe thead th {\n",
       "        text-align: right;\n",
       "    }\n",
       "</style>\n",
       "<table border=\"1\" class=\"dataframe\">\n",
       "  <thead>\n",
       "    <tr style=\"text-align: right;\">\n",
       "      <th></th>\n",
       "      <th>gameID</th>\n",
       "      <th>teamID</th>\n",
       "      <th>season_x</th>\n",
       "      <th>date_x</th>\n",
       "      <th>location</th>\n",
       "      <th>goals</th>\n",
       "      <th>xGoals</th>\n",
       "      <th>shots</th>\n",
       "      <th>shotsOnTarget</th>\n",
       "      <th>deep</th>\n",
       "      <th>...</th>\n",
       "      <th>date_y</th>\n",
       "      <th>homeTeamID</th>\n",
       "      <th>awayTeamID</th>\n",
       "      <th>homeGoals</th>\n",
       "      <th>awayGoals</th>\n",
       "      <th>homeProbability</th>\n",
       "      <th>drawProbability</th>\n",
       "      <th>awayProbability</th>\n",
       "      <th>homeGoalsHalfTime</th>\n",
       "      <th>awayGoalsHalfTime</th>\n",
       "    </tr>\n",
       "  </thead>\n",
       "  <tbody>\n",
       "    <tr>\n",
       "      <th>18424</th>\n",
       "      <td>1510</td>\n",
       "      <td>148</td>\n",
       "      <td>2015</td>\n",
       "      <td>11/21/2015 21:15</td>\n",
       "      <td>a</td>\n",
       "      <td>4</td>\n",
       "      <td>3.276920</td>\n",
       "      <td>18</td>\n",
       "      <td>7</td>\n",
       "      <td>18</td>\n",
       "      <td>...</td>\n",
       "      <td>2015-11-21 21:15:00</td>\n",
       "      <td>150</td>\n",
       "      <td>148</td>\n",
       "      <td>0</td>\n",
       "      <td>4</td>\n",
       "      <td>0.0685</td>\n",
       "      <td>0.1225</td>\n",
       "      <td>0.8090</td>\n",
       "      <td>0</td>\n",
       "      <td>2</td>\n",
       "    </tr>\n",
       "    <tr>\n",
       "      <th>18425</th>\n",
       "      <td>1510</td>\n",
       "      <td>150</td>\n",
       "      <td>2015</td>\n",
       "      <td>11/21/2015 21:15</td>\n",
       "      <td>h</td>\n",
       "      <td>0</td>\n",
       "      <td>1.258100</td>\n",
       "      <td>13</td>\n",
       "      <td>7</td>\n",
       "      <td>5</td>\n",
       "      <td>...</td>\n",
       "      <td>2015-11-21 21:15:00</td>\n",
       "      <td>150</td>\n",
       "      <td>148</td>\n",
       "      <td>0</td>\n",
       "      <td>4</td>\n",
       "      <td>0.0685</td>\n",
       "      <td>0.1225</td>\n",
       "      <td>0.8090</td>\n",
       "      <td>0</td>\n",
       "      <td>2</td>\n",
       "    </tr>\n",
       "    <tr>\n",
       "      <th>18440</th>\n",
       "      <td>1702</td>\n",
       "      <td>148</td>\n",
       "      <td>2015</td>\n",
       "      <td>4/2/2016 22:30</td>\n",
       "      <td>h</td>\n",
       "      <td>1</td>\n",
       "      <td>0.882445</td>\n",
       "      <td>14</td>\n",
       "      <td>3</td>\n",
       "      <td>14</td>\n",
       "      <td>...</td>\n",
       "      <td>2016-04-02 22:30:00</td>\n",
       "      <td>148</td>\n",
       "      <td>150</td>\n",
       "      <td>1</td>\n",
       "      <td>2</td>\n",
       "      <td>0.1854</td>\n",
       "      <td>0.2562</td>\n",
       "      <td>0.5584</td>\n",
       "      <td>0</td>\n",
       "      <td>0</td>\n",
       "    </tr>\n",
       "    <tr>\n",
       "      <th>18441</th>\n",
       "      <td>1702</td>\n",
       "      <td>150</td>\n",
       "      <td>2015</td>\n",
       "      <td>4/2/2016 22:30</td>\n",
       "      <td>a</td>\n",
       "      <td>2</td>\n",
       "      <td>1.565370</td>\n",
       "      <td>15</td>\n",
       "      <td>6</td>\n",
       "      <td>8</td>\n",
       "      <td>...</td>\n",
       "      <td>2016-04-02 22:30:00</td>\n",
       "      <td>148</td>\n",
       "      <td>150</td>\n",
       "      <td>1</td>\n",
       "      <td>2</td>\n",
       "      <td>0.1854</td>\n",
       "      <td>0.2562</td>\n",
       "      <td>0.5584</td>\n",
       "      <td>0</td>\n",
       "      <td>0</td>\n",
       "    </tr>\n",
       "    <tr>\n",
       "      <th>18458</th>\n",
       "      <td>3164</td>\n",
       "      <td>148</td>\n",
       "      <td>2016</td>\n",
       "      <td>12/3/2016 19:15</td>\n",
       "      <td>h</td>\n",
       "      <td>1</td>\n",
       "      <td>1.739840</td>\n",
       "      <td>11</td>\n",
       "      <td>3</td>\n",
       "      <td>7</td>\n",
       "      <td>...</td>\n",
       "      <td>2016-12-03 19:15:00</td>\n",
       "      <td>148</td>\n",
       "      <td>150</td>\n",
       "      <td>1</td>\n",
       "      <td>1</td>\n",
       "      <td>0.4790</td>\n",
       "      <td>0.2541</td>\n",
       "      <td>0.2669</td>\n",
       "      <td>0</td>\n",
       "      <td>0</td>\n",
       "    </tr>\n",
       "  </tbody>\n",
       "</table>\n",
       "<p>5 rows × 29 columns</p>\n",
       "</div>"
      ],
      "text/plain": [
       "       gameID  teamID  season_x            date_x location  goals    xGoals   \n",
       "18424    1510     148      2015  11/21/2015 21:15        a      4  3.276920  \\\n",
       "18425    1510     150      2015  11/21/2015 21:15        h      0  1.258100   \n",
       "18440    1702     148      2015    4/2/2016 22:30        h      1  0.882445   \n",
       "18441    1702     150      2015    4/2/2016 22:30        a      2  1.565370   \n",
       "18458    3164     148      2016   12/3/2016 19:15        h      1  1.739840   \n",
       "\n",
       "       shots  shotsOnTarget  deep  ...               date_y  homeTeamID   \n",
       "18424     18              7    18  ...  2015-11-21 21:15:00         150  \\\n",
       "18425     13              7     5  ...  2015-11-21 21:15:00         150   \n",
       "18440     14              3    14  ...  2016-04-02 22:30:00         148   \n",
       "18441     15              6     8  ...  2016-04-02 22:30:00         148   \n",
       "18458     11              3     7  ...  2016-12-03 19:15:00         148   \n",
       "\n",
       "       awayTeamID  homeGoals  awayGoals homeProbability drawProbability   \n",
       "18424         148          0          4          0.0685          0.1225  \\\n",
       "18425         148          0          4          0.0685          0.1225   \n",
       "18440         150          1          2          0.1854          0.2562   \n",
       "18441         150          1          2          0.1854          0.2562   \n",
       "18458         150          1          1          0.4790          0.2541   \n",
       "\n",
       "       awayProbability  homeGoalsHalfTime awayGoalsHalfTime  \n",
       "18424           0.8090                  0                 2  \n",
       "18425           0.8090                  0                 2  \n",
       "18440           0.5584                  0                 0  \n",
       "18441           0.5584                  0                 0  \n",
       "18458           0.2669                  0                 0  \n",
       "\n",
       "[5 rows x 29 columns]"
      ]
     },
     "execution_count": 46,
     "metadata": {},
     "output_type": "execute_result"
    }
   ],
   "source": [
    "el_classico = (\n",
    "    teamstats\n",
    "    .merge(teams, on=\"teamID\", how=\"inner\")\n",
    "    .merge(games, on=\"gameID\", how=\"inner\")\n",
    "    .query(\"(homeTeamID == 148 and awayTeamID == 150) or (homeTeamID == 150 and awayTeamID == 148)\")\n",
    ")\n",
    "el_classico.head()"
   ]
  },
  {
   "cell_type": "markdown",
   "metadata": {},
   "source": [
    "### 5.3 Calculating Win Counts\n",
    "We calculate the number of wins for Barcelona and Real Madrid."
   ]
  },
  {
   "cell_type": "code",
   "execution_count": 47,
   "metadata": {},
   "outputs": [
    {
     "data": {
      "text/html": [
       "<div>\n",
       "<style scoped>\n",
       "    .dataframe tbody tr th:only-of-type {\n",
       "        vertical-align: middle;\n",
       "    }\n",
       "\n",
       "    .dataframe tbody tr th {\n",
       "        vertical-align: top;\n",
       "    }\n",
       "\n",
       "    .dataframe thead th {\n",
       "        text-align: right;\n",
       "    }\n",
       "</style>\n",
       "<table border=\"1\" class=\"dataframe\">\n",
       "  <thead>\n",
       "    <tr style=\"text-align: right;\">\n",
       "      <th></th>\n",
       "      <th>name</th>\n",
       "      <th>win_count</th>\n",
       "    </tr>\n",
       "  </thead>\n",
       "  <tbody>\n",
       "    <tr>\n",
       "      <th>0</th>\n",
       "      <td>Barcelona</td>\n",
       "      <td>6</td>\n",
       "    </tr>\n",
       "  </tbody>\n",
       "</table>\n",
       "</div>"
      ],
      "text/plain": [
       "        name  win_count\n",
       "0  Barcelona          6"
      ]
     },
     "execution_count": 47,
     "metadata": {},
     "output_type": "execute_result"
    }
   ],
   "source": [
    "def get_win_count(df, team_id):\n",
    "    filtered_df = df[df[\"teamID\"] == team_id]\n",
    "    win_count = (\n",
    "        filtered_df.groupby(\"name\")[\"result\"]\n",
    "        .apply(lambda x: (x == \"W\").sum())\n",
    "        .reset_index(name=\"win_count\")\n",
    "    )\n",
    "    return win_count\n",
    "\n",
    "# Example usage with el_classico DataFrame\n",
    "team_id = 148  # Replace with the desired team ID\n",
    "win_data = get_win_count(el_classico, team_id)\n",
    "win_data.head()\n"
   ]
  },
  {
   "cell_type": "code",
   "execution_count": 48,
   "metadata": {},
   "outputs": [
    {
     "data": {
      "text/html": [
       "<div>\n",
       "<style scoped>\n",
       "    .dataframe tbody tr th:only-of-type {\n",
       "        vertical-align: middle;\n",
       "    }\n",
       "\n",
       "    .dataframe tbody tr th {\n",
       "        vertical-align: top;\n",
       "    }\n",
       "\n",
       "    .dataframe thead th {\n",
       "        text-align: right;\n",
       "    }\n",
       "</style>\n",
       "<table border=\"1\" class=\"dataframe\">\n",
       "  <thead>\n",
       "    <tr style=\"text-align: right;\">\n",
       "      <th></th>\n",
       "      <th>name</th>\n",
       "      <th>win_count</th>\n",
       "    </tr>\n",
       "  </thead>\n",
       "  <tbody>\n",
       "    <tr>\n",
       "      <th>0</th>\n",
       "      <td>Real Madrid</td>\n",
       "      <td>5</td>\n",
       "    </tr>\n",
       "  </tbody>\n",
       "</table>\n",
       "</div>"
      ],
      "text/plain": [
       "          name  win_count\n",
       "0  Real Madrid          5"
      ]
     },
     "execution_count": 48,
     "metadata": {},
     "output_type": "execute_result"
    }
   ],
   "source": [
    "team_id = 150  # Replace with the desired team ID\n",
    "win_data = get_win_count(el_classico, team_id)\n",
    "win_data.head()"
   ]
  },
  {
   "cell_type": "markdown",
   "metadata": {},
   "source": [
    "#### Between Barcelona and Real Madrid, **Barcelona** has won 6 times that is more than that of **Real Madrid** who has won five times out of 14 El Classico matches the played in season 2014 - 2020."
   ]
  },
  {
   "cell_type": "markdown",
   "metadata": {},
   "source": [
    "## 6. Top Goal Scorers and Assisters"
   ]
  },
  {
   "cell_type": "markdown",
   "metadata": {},
   "source": [
    "### 6.1 Top Goal Scorers\n",
    "We identify the top goal scorers."
   ]
  },
  {
   "cell_type": "code",
   "execution_count": 49,
   "metadata": {},
   "outputs": [
    {
     "data": {
      "text/html": [
       "<div>\n",
       "<style scoped>\n",
       "    .dataframe tbody tr th:only-of-type {\n",
       "        vertical-align: middle;\n",
       "    }\n",
       "\n",
       "    .dataframe tbody tr th {\n",
       "        vertical-align: top;\n",
       "    }\n",
       "\n",
       "    .dataframe thead th {\n",
       "        text-align: right;\n",
       "    }\n",
       "</style>\n",
       "<table border=\"1\" class=\"dataframe\">\n",
       "  <thead>\n",
       "    <tr style=\"text-align: right;\">\n",
       "      <th></th>\n",
       "      <th>playerID</th>\n",
       "      <th>name</th>\n",
       "      <th>goals</th>\n",
       "      <th>player_rank</th>\n",
       "    </tr>\n",
       "  </thead>\n",
       "  <tbody>\n",
       "    <tr>\n",
       "      <th>1910</th>\n",
       "      <td>2097</td>\n",
       "      <td>Lionel Messi</td>\n",
       "      <td>231</td>\n",
       "      <td>1.0</td>\n",
       "    </tr>\n",
       "    <tr>\n",
       "      <th>2183</th>\n",
       "      <td>2371</td>\n",
       "      <td>Cristiano Ronaldo</td>\n",
       "      <td>215</td>\n",
       "      <td>2.0</td>\n",
       "    </tr>\n",
       "    <tr>\n",
       "      <th>220</th>\n",
       "      <td>227</td>\n",
       "      <td>Robert Lewandowski</td>\n",
       "      <td>203</td>\n",
       "      <td>3.0</td>\n",
       "    </tr>\n",
       "    <tr>\n",
       "      <th>1911</th>\n",
       "      <td>2098</td>\n",
       "      <td>Luis Suárez</td>\n",
       "      <td>168</td>\n",
       "      <td>4.0</td>\n",
       "    </tr>\n",
       "    <tr>\n",
       "      <th>620</th>\n",
       "      <td>647</td>\n",
       "      <td>Harry Kane</td>\n",
       "      <td>163</td>\n",
       "      <td>5.0</td>\n",
       "    </tr>\n",
       "  </tbody>\n",
       "</table>\n",
       "</div>"
      ],
      "text/plain": [
       "      playerID                name  goals  player_rank\n",
       "1910      2097        Lionel Messi    231          1.0\n",
       "2183      2371   Cristiano Ronaldo    215          2.0\n",
       "220        227  Robert Lewandowski    203          3.0\n",
       "1911      2098         Luis Suárez    168          4.0\n",
       "620        647          Harry Kane    163          5.0"
      ]
     },
     "execution_count": 49,
     "metadata": {},
     "output_type": "execute_result"
    }
   ],
   "source": [
    "# Merging the data between appearances and players\n",
    "merged_data = pd.merge(appearances, players, on='playerID')\n",
    "\n",
    "# Calculating the total goals for each player\n",
    "player_goals = merged_data.groupby(['playerID', 'name'])['goals'].sum().reset_index()\n",
    "\n",
    "# Ranking players based on their total goals using the 'rank' function\n",
    "player_goals['player_rank'] = player_goals['goals'].rank(ascending=False, method='min')\n",
    "\n",
    "# Sorting players by goals and selecting the top 11 players\n",
    "top_players = player_goals.sort_values(by='goals', ascending=False).head(11)\n",
    "\n",
    "# Displaying the results\n",
    "top_players.head()"
   ]
  },
  {
   "cell_type": "markdown",
   "metadata": {},
   "source": [
    "#### **Lionel Messi** leads with 231 goals, securing the 1st rank, followed closely by **Cristiano Ronaldo** with 215 goals in 2nd place. **Robert Lewandowski** rounds out the top three with 203 goals, showcasing his remarkable striking ability.\n",
    "\n",
    "#### This data underscores the consistency and scoring prowess of these elite players over the analyzed seasons, making them some of the most impactful forwards in modern football history.\n",
    "\n",
    "#### **\"Messi is your uncle, whether you like it or not!\" 😆**"
   ]
  },
  {
   "cell_type": "markdown",
   "metadata": {},
   "source": [
    "### 6.2 Top Assisters\n",
    "We identify the top assisters."
   ]
  },
  {
   "cell_type": "code",
   "execution_count": 50,
   "metadata": {},
   "outputs": [
    {
     "data": {
      "text/html": [
       "<div>\n",
       "<style scoped>\n",
       "    .dataframe tbody tr th:only-of-type {\n",
       "        vertical-align: middle;\n",
       "    }\n",
       "\n",
       "    .dataframe tbody tr th {\n",
       "        vertical-align: top;\n",
       "    }\n",
       "\n",
       "    .dataframe thead th {\n",
       "        text-align: right;\n",
       "    }\n",
       "</style>\n",
       "<table border=\"1\" class=\"dataframe\">\n",
       "  <thead>\n",
       "    <tr style=\"text-align: right;\">\n",
       "      <th></th>\n",
       "      <th>playerID</th>\n",
       "      <th>name</th>\n",
       "      <th>assists</th>\n",
       "      <th>player_rank</th>\n",
       "    </tr>\n",
       "  </thead>\n",
       "  <tbody>\n",
       "    <tr>\n",
       "      <th>424</th>\n",
       "      <td>447</td>\n",
       "      <td>Kevin De Bruyne</td>\n",
       "      <td>97</td>\n",
       "      <td>1.0</td>\n",
       "    </tr>\n",
       "    <tr>\n",
       "      <th>1910</th>\n",
       "      <td>2097</td>\n",
       "      <td>Lionel Messi</td>\n",
       "      <td>97</td>\n",
       "      <td>1.0</td>\n",
       "    </tr>\n",
       "    <tr>\n",
       "      <th>217</th>\n",
       "      <td>224</td>\n",
       "      <td>Thomas Müller</td>\n",
       "      <td>87</td>\n",
       "      <td>3.0</td>\n",
       "    </tr>\n",
       "    <tr>\n",
       "      <th>2842</th>\n",
       "      <td>3553</td>\n",
       "      <td>Ángel Di María</td>\n",
       "      <td>75</td>\n",
       "      <td>4.0</td>\n",
       "    </tr>\n",
       "    <tr>\n",
       "      <th>1911</th>\n",
       "      <td>2098</td>\n",
       "      <td>Luis Suárez</td>\n",
       "      <td>72</td>\n",
       "      <td>5.0</td>\n",
       "    </tr>\n",
       "  </tbody>\n",
       "</table>\n",
       "</div>"
      ],
      "text/plain": [
       "      playerID             name  assists  player_rank\n",
       "424        447  Kevin De Bruyne       97          1.0\n",
       "1910      2097     Lionel Messi       97          1.0\n",
       "217        224    Thomas Müller       87          3.0\n",
       "2842      3553   Ángel Di María       75          4.0\n",
       "1911      2098      Luis Suárez       72          5.0"
      ]
     },
     "execution_count": 50,
     "metadata": {},
     "output_type": "execute_result"
    }
   ],
   "source": [
    "# Calculating the total assists for each player\n",
    "player_assists = merged_data.groupby(['playerID', 'name'])['assists'].sum().reset_index()\n",
    "\n",
    "# Ranking players based on their total assists using the 'rank' function\n",
    "player_assists['player_rank'] = player_assists['assists'].rank(ascending=False, method='min')\n",
    "\n",
    "# Sorting players by assists and selecting the top 11 players\n",
    "top_assisters = player_assists.sort_values(by='assists', ascending=False).head(11)\n",
    "\n",
    "# Displaying the results\n",
    "top_assisters.head()"
   ]
  },
  {
   "cell_type": "markdown",
   "metadata": {},
   "source": [
    "#### **Kevin De Bruyne** and **Lionel Messi** are tied for the 1st rank, both accumulating 97 assists during this period, showcasing their exceptional playmaking abilities. Following them is **Thomas Müller** in 3rd place with 87 assists, demonstrating his skill in creating scoring opportunities.\n",
    "\n",
    "#### This results shows us ***Lionel Messi's*** remarkable versatility, as he tops both the goal-scoring and assist charts, further solidifying his status as one of the greatest players in football history.\n",
    "\n",
    "#### **\"Messi owns you! 😎\"**"
   ]
  },
  {
   "cell_type": "markdown",
   "metadata": {},
   "source": [
    "## 7. Exploratory Data Analysis"
   ]
  },
  {
   "cell_type": "markdown",
   "metadata": {},
   "source": [
    "### 7.1 Goals Analysis\n",
    "We analyze the goals scored by teams."
   ]
  },
  {
   "cell_type": "code",
   "execution_count": 51,
   "metadata": {},
   "outputs": [
    {
     "data": {
      "text/html": [
       "<div>\n",
       "<style scoped>\n",
       "    .dataframe tbody tr th:only-of-type {\n",
       "        vertical-align: middle;\n",
       "    }\n",
       "\n",
       "    .dataframe tbody tr th {\n",
       "        vertical-align: top;\n",
       "    }\n",
       "\n",
       "    .dataframe thead th {\n",
       "        text-align: right;\n",
       "    }\n",
       "</style>\n",
       "<table border=\"1\" class=\"dataframe\">\n",
       "  <thead>\n",
       "    <tr style=\"text-align: right;\">\n",
       "      <th></th>\n",
       "      <th>teamID</th>\n",
       "      <th>goals</th>\n",
       "    </tr>\n",
       "  </thead>\n",
       "  <tbody>\n",
       "    <tr>\n",
       "      <th>0</th>\n",
       "      <td>206</td>\n",
       "      <td>22</td>\n",
       "    </tr>\n",
       "    <tr>\n",
       "      <th>1</th>\n",
       "      <td>262</td>\n",
       "      <td>26</td>\n",
       "    </tr>\n",
       "    <tr>\n",
       "      <th>2</th>\n",
       "      <td>234</td>\n",
       "      <td>26</td>\n",
       "    </tr>\n",
       "    <tr>\n",
       "      <th>3</th>\n",
       "      <td>93</td>\n",
       "      <td>27</td>\n",
       "    </tr>\n",
       "    <tr>\n",
       "      <th>4</th>\n",
       "      <td>182</td>\n",
       "      <td>29</td>\n",
       "    </tr>\n",
       "  </tbody>\n",
       "</table>\n",
       "</div>"
      ],
      "text/plain": [
       "   teamID  goals\n",
       "0     206     22\n",
       "1     262     26\n",
       "2     234     26\n",
       "3      93     27\n",
       "4     182     29"
      ]
     },
     "execution_count": 51,
     "metadata": {},
     "output_type": "execute_result"
    }
   ],
   "source": [
    "team_goals = teamstats.groupby('teamID')['goals'].sum().sort_values()\n",
    "team_goals = team_goals.reset_index()\n",
    "\n",
    "team_goals.head()"
   ]
  },
  {
   "cell_type": "markdown",
   "metadata": {},
   "source": [
    "#### Note here that the team with the least goals is **Cordoba**, and the team with the most goals is **Barcelona**"
   ]
  },
  {
   "cell_type": "markdown",
   "metadata": {},
   "source": [
    "### 7.2 Yellow Cards Analysis\n",
    "We analyze the yellow cards received by teams."
   ]
  },
  {
   "cell_type": "code",
   "execution_count": 52,
   "metadata": {},
   "outputs": [
    {
     "data": {
      "text/html": [
       "<div>\n",
       "<style scoped>\n",
       "    .dataframe tbody tr th:only-of-type {\n",
       "        vertical-align: middle;\n",
       "    }\n",
       "\n",
       "    .dataframe tbody tr th {\n",
       "        vertical-align: top;\n",
       "    }\n",
       "\n",
       "    .dataframe thead th {\n",
       "        text-align: right;\n",
       "    }\n",
       "</style>\n",
       "<table border=\"1\" class=\"dataframe\">\n",
       "  <thead>\n",
       "    <tr style=\"text-align: right;\">\n",
       "      <th></th>\n",
       "      <th>teamID</th>\n",
       "      <th>yellowCards</th>\n",
       "    </tr>\n",
       "  </thead>\n",
       "  <tbody>\n",
       "    <tr>\n",
       "      <th>0</th>\n",
       "      <td>262</td>\n",
       "      <td>51.0</td>\n",
       "    </tr>\n",
       "    <tr>\n",
       "      <th>1</th>\n",
       "      <td>234</td>\n",
       "      <td>59.0</td>\n",
       "    </tr>\n",
       "    <tr>\n",
       "      <th>2</th>\n",
       "      <td>245</td>\n",
       "      <td>61.0</td>\n",
       "    </tr>\n",
       "    <tr>\n",
       "      <th>3</th>\n",
       "      <td>227</td>\n",
       "      <td>65.0</td>\n",
       "    </tr>\n",
       "    <tr>\n",
       "      <th>4</th>\n",
       "      <td>209</td>\n",
       "      <td>66.0</td>\n",
       "    </tr>\n",
       "  </tbody>\n",
       "</table>\n",
       "</div>"
      ],
      "text/plain": [
       "   teamID  yellowCards\n",
       "0     262         51.0\n",
       "1     234         59.0\n",
       "2     245         61.0\n",
       "3     227         65.0\n",
       "4     209         66.0"
      ]
     },
     "execution_count": 52,
     "metadata": {},
     "output_type": "execute_result"
    }
   ],
   "source": [
    "team_yellow_card = teamstats.groupby('teamID')['yellowCards'].sum().sort_values()\n",
    "team_yellow_card = team_yellow_card.reset_index()\n",
    "team_yellow_card.head()\n"
   ]
  },
  {
   "cell_type": "code",
   "execution_count": 53,
   "metadata": {},
   "outputs": [
    {
     "name": "stdout",
     "output_type": "stream",
     "text": [
      "Min Yellow Cards: 0.0\n",
      "Max Yellow Cards: 9.0\n",
      "Average Yellow Cards: 2.0322567924602706\n",
      "Standard Deviation: 1.3678564940338822\n"
     ]
    }
   ],
   "source": [
    "min_yellow_cards = teamstats['yellowCards'].min()\n",
    "max_yellow_cards = teamstats['yellowCards'].max()\n",
    "average_yellow_cards = teamstats['yellowCards'].mean()\n",
    "std_dev_yellow_cards = teamstats['yellowCards'].std()\n",
    "\n",
    "print(f\"Min Yellow Cards: {min_yellow_cards}\")\n",
    "print(f\"Max Yellow Cards: {max_yellow_cards}\")\n",
    "print(f\"Average Yellow Cards: {average_yellow_cards}\")\n",
    "print(f\"Standard Deviation: {std_dev_yellow_cards}\")"
   ]
  },
  {
   "cell_type": "markdown",
   "metadata": {},
   "source": [
    "**Teams with Low Yellow Cards:**\n",
    "\n",
    "The teams with 0 yellow cards are an interesting case. These teams might have a highly disciplined approach, focusing on fair play and avoiding unnecessary fouls. It could also indicate that their style of play is less aggressive or more cautious in nature.\n",
    "\n",
    "**Teams with High Yellow Cards:**\n",
    "\n",
    "The team with A high number of yellow cards can be associated with more aggressive or reckless behavior on the field. These teams might struggle with controlling their aggression or might be involved in intense, physical matches that lead to fouls.\n",
    "\n",
    "**Distribution of Data:**\n",
    "\n",
    "The relatively low average (around 2) and the standard deviation (1.37) suggest that the majority of teams maintain a similar level of discipline, but there are outliers. The spread of yellow cards indicates a mix of teams—some play cautiously, while others may need to adjust their playing style to avoid unnecessary penalties."
   ]
  },
  {
   "cell_type": "markdown",
   "metadata": {},
   "source": [
    "### 7.3 Red Cards Analysis\n",
    "We analyze the red cards received by teams."
   ]
  },
  {
   "cell_type": "code",
   "execution_count": 54,
   "metadata": {},
   "outputs": [
    {
     "data": {
      "text/html": [
       "<div>\n",
       "<style scoped>\n",
       "    .dataframe tbody tr th:only-of-type {\n",
       "        vertical-align: middle;\n",
       "    }\n",
       "\n",
       "    .dataframe tbody tr th {\n",
       "        vertical-align: top;\n",
       "    }\n",
       "\n",
       "    .dataframe thead th {\n",
       "        text-align: right;\n",
       "    }\n",
       "</style>\n",
       "<table border=\"1\" class=\"dataframe\">\n",
       "  <thead>\n",
       "    <tr style=\"text-align: right;\">\n",
       "      <th></th>\n",
       "      <th>teamID</th>\n",
       "      <th>redCards</th>\n",
       "    </tr>\n",
       "  </thead>\n",
       "  <tbody>\n",
       "    <tr>\n",
       "      <th>0</th>\n",
       "      <td>262</td>\n",
       "      <td>1</td>\n",
       "    </tr>\n",
       "    <tr>\n",
       "      <th>1</th>\n",
       "      <td>245</td>\n",
       "      <td>1</td>\n",
       "    </tr>\n",
       "    <tr>\n",
       "      <th>2</th>\n",
       "      <td>227</td>\n",
       "      <td>1</td>\n",
       "    </tr>\n",
       "    <tr>\n",
       "      <th>3</th>\n",
       "      <td>93</td>\n",
       "      <td>1</td>\n",
       "    </tr>\n",
       "    <tr>\n",
       "      <th>4</th>\n",
       "      <td>233</td>\n",
       "      <td>1</td>\n",
       "    </tr>\n",
       "  </tbody>\n",
       "</table>\n",
       "</div>"
      ],
      "text/plain": [
       "   teamID  redCards\n",
       "0     262         1\n",
       "1     245         1\n",
       "2     227         1\n",
       "3      93         1\n",
       "4     233         1"
      ]
     },
     "execution_count": 54,
     "metadata": {},
     "output_type": "execute_result"
    }
   ],
   "source": [
    "team_red_card=teamstats.groupby('teamID')['redCards'].sum().sort_values()\n",
    "team_red_card = team_red_card.reset_index()\n",
    "team_red_card.head()"
   ]
  },
  {
   "cell_type": "code",
   "execution_count": 55,
   "metadata": {},
   "outputs": [
    {
     "name": "stdout",
     "output_type": "stream",
     "text": [
      "Min Red Cards: 0\n",
      "Max Red Cards: 3\n",
      "Average Red Cards: 0.10319400630914827\n",
      "Standard Deviation: 0.32246617641840736\n"
     ]
    }
   ],
   "source": [
    "min_red_cards = teamstats['redCards'].min()\n",
    "max_red_cards = teamstats['redCards'].max()\n",
    "average_red_cards = teamstats['redCards'].mean()\n",
    "std_dev_red_cards = teamstats['redCards'].std()\n",
    "\n",
    "print(f\"Min Red Cards: {min_red_cards}\")\n",
    "print(f\"Max Red Cards: {max_red_cards}\")\n",
    "print(f\"Average Red Cards: {average_red_cards}\")\n",
    "print(f\"Standard Deviation: {std_dev_red_cards}\")"
   ]
  },
  {
   "cell_type": "markdown",
   "metadata": {},
   "source": [
    "**Teams with Zero Red Cards:**\n",
    "\n",
    "A significant portion of teams likely have zero red cards. These teams might be known for their discipline, tactical awareness, and controlled style of play.\n",
    "\n",
    "**Teams with High Red Cards (3 Red Cards):**\n",
    "\n",
    "The maximum value of 3 red cards is not an alarming number, meaning that no team is excessively aggressive or reckless. However, these teams may need to review their defensive strategies and avoid unnecessary fouls that lead to red cards.\n",
    "\n",
    "**Low Average and Standard Deviation:**\n",
    "\n",
    "Since the average red card count is close to zero and the standard deviation is small, this suggests that red cards are an exception rather than a common occurrence. Most teams maintain a clean disciplinary record, and only a few teams have received more than one red card."
   ]
  },
  {
   "cell_type": "markdown",
   "metadata": {},
   "source": [
    "## 8. Visualizations"
   ]
  },
  {
   "cell_type": "code",
   "execution_count": 58,
   "metadata": {},
   "outputs": [
    {
     "data": {
      "text/plain": [
       "<Axes: xlabel='teamID'>"
      ]
     },
     "execution_count": 58,
     "metadata": {},
     "output_type": "execute_result"
    },
    {
     "data": {
      "image/png": "[encoded data removed]",
      "text/plain": [
       "<Figure size 640x480 with 1 Axes>"
      ]
     },
     "metadata": {},
     "output_type": "display_data"
    }
   ],
   "source": [
    "teamstats.groupby('teamID')['goals'].sum().head(20).plot(kind = 'bar')"
   ]
  },
  {
   "cell_type": "markdown",
   "metadata": {},
   "source": [
    "### Teams **87 and 88** dominate in goal scoring, while teams **77 and 79** struggle offensively. The distribution suggests a competitive imbalance, with a few high-performing teams excelling while others lag behind. 🚀"
   ]
  },
  {
   "cell_type": "code",
   "execution_count": 62,
   "metadata": {},
   "outputs": [
    {
     "data": {
      "text/plain": [
       "<Axes: ylabel='yellowCards'>"
      ]
     },
     "execution_count": 62,
     "metadata": {},
     "output_type": "execute_result"
    },
    {
     "data": {
      "image/png": "[encoded data removed]",
      "text/plain": [
       "<Figure size 800x800 with 1 Axes>"
      ]
     },
     "metadata": {},
     "output_type": "display_data"
    }
   ],
   "source": [
    "teamstats.groupby('teamID')['yellowCards'].sum().head(20).plot(kind='pie', figsize=(8, 8), autopct='%1.1f%%', startangle=90, colormap='viridis')"
   ]
  },
  {
   "cell_type": "markdown",
   "metadata": {},
   "source": [
    "### The pie chart shows the distribution of yellow cards among the top 20 teams, with some teams receiving significantly more than others. Teams 89 and 82 have the highest share, indicating aggressive or defensive playstyles, while team 79 has the lowest, suggesting a more disciplined approach. 🚀"
   ]
  },
  {
   "cell_type": "code",
   "execution_count": 63,
   "metadata": {},
   "outputs": [
    {
     "data": {
      "text/plain": [
       "<Axes: xlabel='teamID'>"
      ]
     },
     "execution_count": 63,
     "metadata": {},
     "output_type": "execute_result"
    },
    {
     "data": {
      "image/png": "[encoded data removed]",
      "text/plain": [
       "<Figure size 1200x600 with 1 Axes>"
      ]
     },
     "metadata": {},
     "output_type": "display_data"
    }
   ],
   "source": [
    "teamstats.groupby(['teamID', 'location']).size().unstack(fill_value=0).head(15).plot(kind='bar', figsize=(12, 6), stacked=True, edgecolor='black')"
   ]
  },
  {
   "cell_type": "markdown",
   "metadata": {},
   "source": [
    "## 8. Conclusion\n",
    "\n",
    "### This notebook provides a comprehensive exploratory data analysis of the football database. We have cleaned the data, performed initial analyses, and explored various aspects such as team statistics, player performances, and match outcomes. Further analyses can be conducted to gain deeper insights into the data."
   ]
  }
 ],
 "metadata": {
  "kernelspec": {
   "display_name": "flask3.8.1",
   "language": "python",
   "name": "python3"
  },
  "language_info": {
   "codemirror_mode": {
    "name": "ipython",
    "version": 3
   },
   "file_extension": ".py",
   "mimetype": "text/x-python",
   "name": "python",
   "nbconvert_exporter": "python",
   "pygments_lexer": "ipython3",
   "version": "3.8.1"
  }
 },
 "nbformat": 4,
 "nbformat_minor": 2
}
